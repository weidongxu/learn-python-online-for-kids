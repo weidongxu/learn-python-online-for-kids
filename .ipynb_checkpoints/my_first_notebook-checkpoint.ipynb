{
 "cells": [
  {
   "cell_type": "code",
   "execution_count": 3,
   "id": "6a014f0f-2e7a-47db-b78a-db5b16a9d1af",
   "metadata": {},
   "outputs": [
    {
     "data": {
      "text/plain": [
       "0      45\n",
       "1      60\n",
       "2      80\n",
       "3      80\n",
       "4      39\n",
       "       ..\n",
       "795    50\n",
       "796    50\n",
       "797    80\n",
       "798    80\n",
       "799    80\n",
       "Name: HP, Length: 800, dtype: int64"
      ]
     },
     "execution_count": 3,
     "metadata": {},
     "output_type": "execute_result"
    }
   ],
   "source": [
    "import pandas as pd\n",
    "\n",
    "df = pd.read_csv('pokeman_data.csv')\n",
    "\n",
    "# print(df.head(5))\n",
    "\n",
    "# df_xlsx = pd.read_excel('pokemon_data.xlsx')\n",
    "# print(df_xlsx.head(3))\n",
    "\n",
    "# df = pd.read_csv('pokemon_data.txt', delimiter='\\t')\n",
    "\n",
    "# print(df.head(5))\n",
    "\n",
    "df['HP']"
   ]
  },
  {
   "cell_type": "code",
   "execution_count": null,
   "id": "4fb776b1-9fff-47ca-99dd-7321026e8622",
   "metadata": {},
   "outputs": [],
   "source": []
  },
  {
   "cell_type": "code",
   "execution_count": null,
   "id": "f80e9df9-eba7-4258-8492-9ee6cc3529c6",
   "metadata": {},
   "outputs": [],
   "source": []
  }
 ],
 "metadata": {
  "kernelspec": {
   "display_name": "Python 3 (ipykernel)",
   "language": "python",
   "name": "python3"
  },
  "language_info": {
   "codemirror_mode": {
    "name": "ipython",
    "version": 3
   },
   "file_extension": ".py",
   "mimetype": "text/x-python",
   "name": "python",
   "nbconvert_exporter": "python",
   "pygments_lexer": "ipython3",
   "version": "3.7.12"
  }
 },
 "nbformat": 4,
 "nbformat_minor": 5
}
