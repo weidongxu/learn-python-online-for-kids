{
 "cells": [
  {
   "cell_type": "code",
   "execution_count": 6,
   "id": "8109bfd5-8e77-40f4-a3d6-9f56f9c45a81",
   "metadata": {},
   "outputs": [
    {
     "name": "stdout",
     "output_type": "stream",
     "text": [
      "['h', 'e', 'l', 'l', 'o', 'w', 'o', 'r', 'd']\n"
     ]
    }
   ],
   "source": [
    "# homework \n",
    "string = \"helloword\"\n",
    "l = list(string)\n",
    "print(l)"
   ]
  },
  {
   "cell_type": "code",
   "execution_count": 8,
   "id": "5a63fa1f-717a-41d7-91d6-c6555724200d",
   "metadata": {},
   "outputs": [
    {
     "name": "stdout",
     "output_type": "stream",
     "text": [
      "hello word\n",
      "['hello', 'word']\n"
     ]
    }
   ],
   "source": [
    "# 1. convert the string to list [\"hello\", \"world\"]\n",
    "string = \"helloworld\"\n",
    "tolist = string[:5]+ ' '+ string[5:]\n",
    "print(tolist)\n",
    "newlist = tolist.split()\n",
    "print(newlist)"
   ]
  },
  {
   "cell_type": "code",
   "execution_count": 10,
   "id": "f63084a2-9055-466c-9207-b495f57f6bd8",
   "metadata": {},
   "outputs": [
    {
     "name": "stdout",
     "output_type": "stream",
     "text": [
      "8\n"
     ]
    }
   ],
   "source": [
    "# 2. find the index of 'l' in the 'world' of the whole string/ list.\n",
    "string = \"helloworld\"\n",
    "ind = string.find('ld')\n",
    "print(ind)"
   ]
  },
  {
   "cell_type": "code",
   "execution_count": null,
   "id": "4d1e582f-5e1e-41d2-90df-75b5b61393a5",
   "metadata": {},
   "outputs": [],
   "source": []
  }
 ],
 "metadata": {
  "kernelspec": {
   "display_name": "Python 3 (ipykernel)",
   "language": "python",
   "name": "python3"
  },
  "language_info": {
   "codemirror_mode": {
    "name": "ipython",
    "version": 3
   },
   "file_extension": ".py",
   "mimetype": "text/x-python",
   "name": "python",
   "nbconvert_exporter": "python",
   "pygments_lexer": "ipython3",
   "version": "3.7.12"
  }
 },
 "nbformat": 4,
 "nbformat_minor": 5
}
